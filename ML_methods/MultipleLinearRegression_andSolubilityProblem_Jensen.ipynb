{
  "cells": [
    {
      "cell_type": "markdown",
      "metadata": {
        "id": "view-in-github",
        "colab_type": "text"
      },
      "source": [
        "<a href=\"https://colab.research.google.com/github/JoshiGaurav11/SelfLearningMLforChem/blob/main/ML_methods/MultipleLinearRegression_andSolubilityProblem_Jensen.ipynb\" target=\"_parent\"><img src=\"https://colab.research.google.com/assets/colab-badge.svg\" alt=\"Open In Colab\"/></a>"
      ]
    },
    {
      "cell_type": "markdown",
      "source": [
        "# Multiple Linear Regression"
      ],
      "metadata": {
        "id": "ou7c5ATeLF_6"
      }
    },
    {
      "cell_type": "markdown",
      "source": [
        "$ y_{predicted}=b.1 + wX $\n",
        "\n",
        "$ \\quad\\quad\\quad\\   = w_0X_0 + w_1X_1 $\n",
        "              \n",
        "$ \\quad\\quad\\quad\\ =( w_0 \\quad w_1 ). (X_0 \\quad X_1 ) $\n",
        "              \n",
        "$ \\quad\\quad\\quad\\ =( b \\quad w ). ( 1 \\quad X ) $\n",
        "              \n",
        "$ \\quad\\quad\\quad\\ =w.Xp (dot\\;\\;product\\;\\;of\\;\\;vectors) $\n",
        "              \n",
        "$ \\quad\\quad\\quad\\ =w @ Xp \\quad in \\;\\; python $\n",
        "\n",
        "In python * does element-wise multiplication (Hadamard Product)\n",
        "\n",
        "$ y_{predicted} = w_0X' + w_1 X_1 $"
      ],
      "metadata": {
        "id": "ZEVVWtTrt0_s"
      }
    },
    {
      "cell_type": "code",
      "source": [
        "import numpy as np\n",
        "import pandas as pd\n",
        "import matplotlib.pyplot as plt"
      ],
      "metadata": {
        "id": "jAlqAaAoutA8"
      },
      "execution_count": null,
      "outputs": []
    },
    {
      "cell_type": "code",
      "execution_count": null,
      "metadata": {
        "id": "XIXB2DvTRI2C",
        "colab": {
          "base_uri": "https://localhost:8080/"
        },
        "outputId": "fa946efe-1679-417c-bb85-651384b05e2d"
      },
      "outputs": [
        {
          "output_type": "stream",
          "name": "stdout",
          "text": [
            "0 23.57975896326769\n",
            "100 0.33428400937827335\n",
            "200 0.3339819122788043\n",
            "300 0.3338087421306735\n",
            "400 0.33370947636395076\n",
            "500 0.33365257456794545\n",
            "600 0.3336199569345408\n",
            "700 0.33360125963351317\n",
            "800 0.33359054183981596\n",
            "900 0.3335843981134265\n",
            "[[0.89165039 1.27698341]]\n",
            "(1, 12) (1, 2) (12, 2) (1, 12) (1, 12)\n"
          ]
        }
      ],
      "source": [
        "# Multiple linear Regression\n",
        "data = [(0,1), (1,3), (2,2), (3,5), (4,7), (5,8), (6,8), (7,9), (8,10), (9,12), (10,14), (11,16)]\n",
        "df=pd.DataFrame(data, columns=['x','y'])\n",
        "X=df['x']\n",
        "Y=df['y']\n",
        "Y=np.c_[Y].T #change series to matrix\n",
        "ones=np.ones(len(X))\n",
        "Xp=np.c_[ones,X]\n",
        "w=2*np.random.rand(2) - 1 #np.random.rand(2) generates random between 0 and 1 of a dimension 1*2; generate random w between -1 and 1\n",
        "epochs=1000\n",
        "learning_rate=0.01\n",
        "for epoch in range(epochs):\n",
        "  y_predicted=w @ Xp.T\n",
        "  error=Y-y_predicted\n",
        "  l2=0.5*(np.mean((error)**2))\n",
        "  gradient=-(1/(len(X)))* error @ Xp\n",
        "  w=w-learning_rate*gradient\n",
        "  if epoch%(epochs/10)==0:\n",
        "    print(epoch,l2)\n",
        "print(w)\n",
        "print(error.shape,w.shape,Xp.shape,Y.shape,y_predicted.shape)"
      ]
    },
    {
      "cell_type": "code",
      "source": [
        "%%bash\n",
        "wget https://raw.githubusercontent.com/deepchem/deepchem/master/datasets/delaney-processed.csv"
      ],
      "metadata": {
        "colab": {
          "base_uri": "https://localhost:8080/"
        },
        "collapsed": true,
        "id": "qauyiKZFuife",
        "outputId": "00329046-c10c-413c-9d80-dc0cc6a0e2ce"
      },
      "execution_count": null,
      "outputs": [
        {
          "output_type": "stream",
          "name": "stderr",
          "text": [
            "--2024-11-27 08:20:41--  https://raw.githubusercontent.com/deepchem/deepchem/master/datasets/delaney-processed.csv\n",
            "Resolving raw.githubusercontent.com (raw.githubusercontent.com)... 185.199.110.133, 185.199.109.133, 185.199.108.133, ...\n",
            "Connecting to raw.githubusercontent.com (raw.githubusercontent.com)|185.199.110.133|:443... connected.\n",
            "HTTP request sent, awaiting response... 200 OK\n",
            "Length: 96699 (94K) [text/plain]\n",
            "Saving to: ‘delaney-processed.csv’\n",
            "\n",
            "     0K .......... .......... .......... .......... .......... 52% 6.16M 0s\n",
            "    50K .......... .......... .......... .......... ....      100% 39.6M=0.009s\n",
            "\n",
            "2024-11-27 08:20:41 (10.2 MB/s) - ‘delaney-processed.csv’ saved [96699/96699]\n",
            "\n"
          ]
        }
      ]
    },
    {
      "cell_type": "code",
      "source": [
        "data = pd.read_csv('delaney-processed.csv')\n",
        "data.head()"
      ],
      "metadata": {
        "id": "8hBYwjw2vB3A",
        "colab": {
          "base_uri": "https://localhost:8080/",
          "height": 313
        },
        "outputId": "e4b36cc0-b941-4546-96bc-08b50a02e86b"
      },
      "execution_count": null,
      "outputs": [
        {
          "output_type": "execute_result",
          "data": {
            "text/plain": [
              "  Compound ID  ESOL predicted log solubility in mols per litre  \\\n",
              "0   Amigdalin                                           -0.974   \n",
              "1    Fenfuram                                           -2.885   \n",
              "2      citral                                           -2.579   \n",
              "3      Picene                                           -6.618   \n",
              "4   Thiophene                                           -2.232   \n",
              "\n",
              "   Minimum Degree  Molecular Weight  Number of H-Bond Donors  Number of Rings  \\\n",
              "0               1           457.432                        7                3   \n",
              "1               1           201.225                        1                2   \n",
              "2               1           152.237                        0                0   \n",
              "3               2           278.354                        0                5   \n",
              "4               2            84.143                        0                1   \n",
              "\n",
              "   Number of Rotatable Bonds  Polar Surface Area  \\\n",
              "0                          7              202.32   \n",
              "1                          2               42.24   \n",
              "2                          4               17.07   \n",
              "3                          0                0.00   \n",
              "4                          0                0.00   \n",
              "\n",
              "   measured log solubility in mols per litre  \\\n",
              "0                                      -0.77   \n",
              "1                                      -3.30   \n",
              "2                                      -2.06   \n",
              "3                                      -7.87   \n",
              "4                                      -1.33   \n",
              "\n",
              "                                              smiles  \n",
              "0  OCC3OC(OCC2OC(OC(C#N)c1ccccc1)C(O)C(O)C2O)C(O)...  \n",
              "1                             Cc1occc1C(=O)Nc2ccccc2  \n",
              "2                               CC(C)=CCCC(C)=CC(=O)  \n",
              "3                 c1ccc2c(c1)ccc3c2ccc4c5ccccc5ccc43  \n",
              "4                                            c1ccsc1  "
            ],
            "text/html": [
              "\n",
              "  <div id=\"df-aba2deac-c4fd-4016-b9c8-411891b75882\" class=\"colab-df-container\">\n",
              "    <div>\n",
              "<style scoped>\n",
              "    .dataframe tbody tr th:only-of-type {\n",
              "        vertical-align: middle;\n",
              "    }\n",
              "\n",
              "    .dataframe tbody tr th {\n",
              "        vertical-align: top;\n",
              "    }\n",
              "\n",
              "    .dataframe thead th {\n",
              "        text-align: right;\n",
              "    }\n",
              "</style>\n",
              "<table border=\"1\" class=\"dataframe\">\n",
              "  <thead>\n",
              "    <tr style=\"text-align: right;\">\n",
              "      <th></th>\n",
              "      <th>Compound ID</th>\n",
              "      <th>ESOL predicted log solubility in mols per litre</th>\n",
              "      <th>Minimum Degree</th>\n",
              "      <th>Molecular Weight</th>\n",
              "      <th>Number of H-Bond Donors</th>\n",
              "      <th>Number of Rings</th>\n",
              "      <th>Number of Rotatable Bonds</th>\n",
              "      <th>Polar Surface Area</th>\n",
              "      <th>measured log solubility in mols per litre</th>\n",
              "      <th>smiles</th>\n",
              "    </tr>\n",
              "  </thead>\n",
              "  <tbody>\n",
              "    <tr>\n",
              "      <th>0</th>\n",
              "      <td>Amigdalin</td>\n",
              "      <td>-0.974</td>\n",
              "      <td>1</td>\n",
              "      <td>457.432</td>\n",
              "      <td>7</td>\n",
              "      <td>3</td>\n",
              "      <td>7</td>\n",
              "      <td>202.32</td>\n",
              "      <td>-0.77</td>\n",
              "      <td>OCC3OC(OCC2OC(OC(C#N)c1ccccc1)C(O)C(O)C2O)C(O)...</td>\n",
              "    </tr>\n",
              "    <tr>\n",
              "      <th>1</th>\n",
              "      <td>Fenfuram</td>\n",
              "      <td>-2.885</td>\n",
              "      <td>1</td>\n",
              "      <td>201.225</td>\n",
              "      <td>1</td>\n",
              "      <td>2</td>\n",
              "      <td>2</td>\n",
              "      <td>42.24</td>\n",
              "      <td>-3.30</td>\n",
              "      <td>Cc1occc1C(=O)Nc2ccccc2</td>\n",
              "    </tr>\n",
              "    <tr>\n",
              "      <th>2</th>\n",
              "      <td>citral</td>\n",
              "      <td>-2.579</td>\n",
              "      <td>1</td>\n",
              "      <td>152.237</td>\n",
              "      <td>0</td>\n",
              "      <td>0</td>\n",
              "      <td>4</td>\n",
              "      <td>17.07</td>\n",
              "      <td>-2.06</td>\n",
              "      <td>CC(C)=CCCC(C)=CC(=O)</td>\n",
              "    </tr>\n",
              "    <tr>\n",
              "      <th>3</th>\n",
              "      <td>Picene</td>\n",
              "      <td>-6.618</td>\n",
              "      <td>2</td>\n",
              "      <td>278.354</td>\n",
              "      <td>0</td>\n",
              "      <td>5</td>\n",
              "      <td>0</td>\n",
              "      <td>0.00</td>\n",
              "      <td>-7.87</td>\n",
              "      <td>c1ccc2c(c1)ccc3c2ccc4c5ccccc5ccc43</td>\n",
              "    </tr>\n",
              "    <tr>\n",
              "      <th>4</th>\n",
              "      <td>Thiophene</td>\n",
              "      <td>-2.232</td>\n",
              "      <td>2</td>\n",
              "      <td>84.143</td>\n",
              "      <td>0</td>\n",
              "      <td>1</td>\n",
              "      <td>0</td>\n",
              "      <td>0.00</td>\n",
              "      <td>-1.33</td>\n",
              "      <td>c1ccsc1</td>\n",
              "    </tr>\n",
              "  </tbody>\n",
              "</table>\n",
              "</div>\n",
              "    <div class=\"colab-df-buttons\">\n",
              "\n",
              "  <div class=\"colab-df-container\">\n",
              "    <button class=\"colab-df-convert\" onclick=\"convertToInteractive('df-aba2deac-c4fd-4016-b9c8-411891b75882')\"\n",
              "            title=\"Convert this dataframe to an interactive table.\"\n",
              "            style=\"display:none;\">\n",
              "\n",
              "  <svg xmlns=\"http://www.w3.org/2000/svg\" height=\"24px\" viewBox=\"0 -960 960 960\">\n",
              "    <path d=\"M120-120v-720h720v720H120Zm60-500h600v-160H180v160Zm220 220h160v-160H400v160Zm0 220h160v-160H400v160ZM180-400h160v-160H180v160Zm440 0h160v-160H620v160ZM180-180h160v-160H180v160Zm440 0h160v-160H620v160Z\"/>\n",
              "  </svg>\n",
              "    </button>\n",
              "\n",
              "  <style>\n",
              "    .colab-df-container {\n",
              "      display:flex;\n",
              "      gap: 12px;\n",
              "    }\n",
              "\n",
              "    .colab-df-convert {\n",
              "      background-color: #E8F0FE;\n",
              "      border: none;\n",
              "      border-radius: 50%;\n",
              "      cursor: pointer;\n",
              "      display: none;\n",
              "      fill: #1967D2;\n",
              "      height: 32px;\n",
              "      padding: 0 0 0 0;\n",
              "      width: 32px;\n",
              "    }\n",
              "\n",
              "    .colab-df-convert:hover {\n",
              "      background-color: #E2EBFA;\n",
              "      box-shadow: 0px 1px 2px rgba(60, 64, 67, 0.3), 0px 1px 3px 1px rgba(60, 64, 67, 0.15);\n",
              "      fill: #174EA6;\n",
              "    }\n",
              "\n",
              "    .colab-df-buttons div {\n",
              "      margin-bottom: 4px;\n",
              "    }\n",
              "\n",
              "    [theme=dark] .colab-df-convert {\n",
              "      background-color: #3B4455;\n",
              "      fill: #D2E3FC;\n",
              "    }\n",
              "\n",
              "    [theme=dark] .colab-df-convert:hover {\n",
              "      background-color: #434B5C;\n",
              "      box-shadow: 0px 1px 3px 1px rgba(0, 0, 0, 0.15);\n",
              "      filter: drop-shadow(0px 1px 2px rgba(0, 0, 0, 0.3));\n",
              "      fill: #FFFFFF;\n",
              "    }\n",
              "  </style>\n",
              "\n",
              "    <script>\n",
              "      const buttonEl =\n",
              "        document.querySelector('#df-aba2deac-c4fd-4016-b9c8-411891b75882 button.colab-df-convert');\n",
              "      buttonEl.style.display =\n",
              "        google.colab.kernel.accessAllowed ? 'block' : 'none';\n",
              "\n",
              "      async function convertToInteractive(key) {\n",
              "        const element = document.querySelector('#df-aba2deac-c4fd-4016-b9c8-411891b75882');\n",
              "        const dataTable =\n",
              "          await google.colab.kernel.invokeFunction('convertToInteractive',\n",
              "                                                    [key], {});\n",
              "        if (!dataTable) return;\n",
              "\n",
              "        const docLinkHtml = 'Like what you see? Visit the ' +\n",
              "          '<a target=\"_blank\" href=https://colab.research.google.com/notebooks/data_table.ipynb>data table notebook</a>'\n",
              "          + ' to learn more about interactive tables.';\n",
              "        element.innerHTML = '';\n",
              "        dataTable['output_type'] = 'display_data';\n",
              "        await google.colab.output.renderOutput(dataTable, element);\n",
              "        const docLink = document.createElement('div');\n",
              "        docLink.innerHTML = docLinkHtml;\n",
              "        element.appendChild(docLink);\n",
              "      }\n",
              "    </script>\n",
              "  </div>\n",
              "\n",
              "\n",
              "<div id=\"df-10cd4b94-dfcf-436e-82b8-b62a2a0fd009\">\n",
              "  <button class=\"colab-df-quickchart\" onclick=\"quickchart('df-10cd4b94-dfcf-436e-82b8-b62a2a0fd009')\"\n",
              "            title=\"Suggest charts\"\n",
              "            style=\"display:none;\">\n",
              "\n",
              "<svg xmlns=\"http://www.w3.org/2000/svg\" height=\"24px\"viewBox=\"0 0 24 24\"\n",
              "     width=\"24px\">\n",
              "    <g>\n",
              "        <path d=\"M19 3H5c-1.1 0-2 .9-2 2v14c0 1.1.9 2 2 2h14c1.1 0 2-.9 2-2V5c0-1.1-.9-2-2-2zM9 17H7v-7h2v7zm4 0h-2V7h2v10zm4 0h-2v-4h2v4z\"/>\n",
              "    </g>\n",
              "</svg>\n",
              "  </button>\n",
              "\n",
              "<style>\n",
              "  .colab-df-quickchart {\n",
              "      --bg-color: #E8F0FE;\n",
              "      --fill-color: #1967D2;\n",
              "      --hover-bg-color: #E2EBFA;\n",
              "      --hover-fill-color: #174EA6;\n",
              "      --disabled-fill-color: #AAA;\n",
              "      --disabled-bg-color: #DDD;\n",
              "  }\n",
              "\n",
              "  [theme=dark] .colab-df-quickchart {\n",
              "      --bg-color: #3B4455;\n",
              "      --fill-color: #D2E3FC;\n",
              "      --hover-bg-color: #434B5C;\n",
              "      --hover-fill-color: #FFFFFF;\n",
              "      --disabled-bg-color: #3B4455;\n",
              "      --disabled-fill-color: #666;\n",
              "  }\n",
              "\n",
              "  .colab-df-quickchart {\n",
              "    background-color: var(--bg-color);\n",
              "    border: none;\n",
              "    border-radius: 50%;\n",
              "    cursor: pointer;\n",
              "    display: none;\n",
              "    fill: var(--fill-color);\n",
              "    height: 32px;\n",
              "    padding: 0;\n",
              "    width: 32px;\n",
              "  }\n",
              "\n",
              "  .colab-df-quickchart:hover {\n",
              "    background-color: var(--hover-bg-color);\n",
              "    box-shadow: 0 1px 2px rgba(60, 64, 67, 0.3), 0 1px 3px 1px rgba(60, 64, 67, 0.15);\n",
              "    fill: var(--button-hover-fill-color);\n",
              "  }\n",
              "\n",
              "  .colab-df-quickchart-complete:disabled,\n",
              "  .colab-df-quickchart-complete:disabled:hover {\n",
              "    background-color: var(--disabled-bg-color);\n",
              "    fill: var(--disabled-fill-color);\n",
              "    box-shadow: none;\n",
              "  }\n",
              "\n",
              "  .colab-df-spinner {\n",
              "    border: 2px solid var(--fill-color);\n",
              "    border-color: transparent;\n",
              "    border-bottom-color: var(--fill-color);\n",
              "    animation:\n",
              "      spin 1s steps(1) infinite;\n",
              "  }\n",
              "\n",
              "  @keyframes spin {\n",
              "    0% {\n",
              "      border-color: transparent;\n",
              "      border-bottom-color: var(--fill-color);\n",
              "      border-left-color: var(--fill-color);\n",
              "    }\n",
              "    20% {\n",
              "      border-color: transparent;\n",
              "      border-left-color: var(--fill-color);\n",
              "      border-top-color: var(--fill-color);\n",
              "    }\n",
              "    30% {\n",
              "      border-color: transparent;\n",
              "      border-left-color: var(--fill-color);\n",
              "      border-top-color: var(--fill-color);\n",
              "      border-right-color: var(--fill-color);\n",
              "    }\n",
              "    40% {\n",
              "      border-color: transparent;\n",
              "      border-right-color: var(--fill-color);\n",
              "      border-top-color: var(--fill-color);\n",
              "    }\n",
              "    60% {\n",
              "      border-color: transparent;\n",
              "      border-right-color: var(--fill-color);\n",
              "    }\n",
              "    80% {\n",
              "      border-color: transparent;\n",
              "      border-right-color: var(--fill-color);\n",
              "      border-bottom-color: var(--fill-color);\n",
              "    }\n",
              "    90% {\n",
              "      border-color: transparent;\n",
              "      border-bottom-color: var(--fill-color);\n",
              "    }\n",
              "  }\n",
              "</style>\n",
              "\n",
              "  <script>\n",
              "    async function quickchart(key) {\n",
              "      const quickchartButtonEl =\n",
              "        document.querySelector('#' + key + ' button');\n",
              "      quickchartButtonEl.disabled = true;  // To prevent multiple clicks.\n",
              "      quickchartButtonEl.classList.add('colab-df-spinner');\n",
              "      try {\n",
              "        const charts = await google.colab.kernel.invokeFunction(\n",
              "            'suggestCharts', [key], {});\n",
              "      } catch (error) {\n",
              "        console.error('Error during call to suggestCharts:', error);\n",
              "      }\n",
              "      quickchartButtonEl.classList.remove('colab-df-spinner');\n",
              "      quickchartButtonEl.classList.add('colab-df-quickchart-complete');\n",
              "    }\n",
              "    (() => {\n",
              "      let quickchartButtonEl =\n",
              "        document.querySelector('#df-10cd4b94-dfcf-436e-82b8-b62a2a0fd009 button');\n",
              "      quickchartButtonEl.style.display =\n",
              "        google.colab.kernel.accessAllowed ? 'block' : 'none';\n",
              "    })();\n",
              "  </script>\n",
              "</div>\n",
              "\n",
              "    </div>\n",
              "  </div>\n"
            ],
            "application/vnd.google.colaboratory.intrinsic+json": {
              "type": "dataframe",
              "variable_name": "data",
              "summary": "{\n  \"name\": \"data\",\n  \"rows\": 1128,\n  \"fields\": [\n    {\n      \"column\": \"Compound ID\",\n      \"properties\": {\n        \"dtype\": \"string\",\n        \"num_unique_values\": 1128,\n        \"samples\": [\n          \"cis-2-Pentene\",\n          \"5-(3-Methyl-2-butenyl)-5-ethylbarbital\",\n          \"Terbacil\"\n        ],\n        \"semantic_type\": \"\",\n        \"description\": \"\"\n      }\n    },\n    {\n      \"column\": \"ESOL predicted log solubility in mols per litre\",\n      \"properties\": {\n        \"dtype\": \"number\",\n        \"std\": 1.6832198243710357,\n        \"min\": -9.702,\n        \"max\": 1.091,\n        \"num_unique_values\": 920,\n        \"samples\": [\n          -3.184,\n          -4.835,\n          -1.132\n        ],\n        \"semantic_type\": \"\",\n        \"description\": \"\"\n      }\n    },\n    {\n      \"column\": \"Minimum Degree\",\n      \"properties\": {\n        \"dtype\": \"number\",\n        \"std\": 0,\n        \"min\": 0,\n        \"max\": 2,\n        \"num_unique_values\": 3,\n        \"samples\": [\n          1,\n          2,\n          0\n        ],\n        \"semantic_type\": \"\",\n        \"description\": \"\"\n      }\n    },\n    {\n      \"column\": \"Molecular Weight\",\n      \"properties\": {\n        \"dtype\": \"number\",\n        \"std\": 102.73807720680963,\n        \"min\": 16.043,\n        \"max\": 780.9490000000001,\n        \"num_unique_values\": 806,\n        \"samples\": [\n          527.4140000000002,\n          168.10799999999995,\n          393.85400000000016\n        ],\n        \"semantic_type\": \"\",\n        \"description\": \"\"\n      }\n    },\n    {\n      \"column\": \"Number of H-Bond Donors\",\n      \"properties\": {\n        \"dtype\": \"number\",\n        \"std\": 1,\n        \"min\": 0,\n        \"max\": 11,\n        \"num_unique_values\": 10,\n        \"samples\": [\n          5,\n          1,\n          3\n        ],\n        \"semantic_type\": \"\",\n        \"description\": \"\"\n      }\n    },\n    {\n      \"column\": \"Number of Rings\",\n      \"properties\": {\n        \"dtype\": \"number\",\n        \"std\": 1,\n        \"min\": 0,\n        \"max\": 8,\n        \"num_unique_values\": 9,\n        \"samples\": [\n          7,\n          2,\n          4\n        ],\n        \"semantic_type\": \"\",\n        \"description\": \"\"\n      }\n    },\n    {\n      \"column\": \"Number of Rotatable Bonds\",\n      \"properties\": {\n        \"dtype\": \"number\",\n        \"std\": 2,\n        \"min\": 0,\n        \"max\": 23,\n        \"num_unique_values\": 19,\n        \"samples\": [\n          7,\n          3,\n          10\n        ],\n        \"semantic_type\": \"\",\n        \"description\": \"\"\n      }\n    },\n    {\n      \"column\": \"Polar Surface Area\",\n      \"properties\": {\n        \"dtype\": \"number\",\n        \"std\": 35.38359265570088,\n        \"min\": 0.0,\n        \"max\": 268.67999999999995,\n        \"num_unique_values\": 283,\n        \"samples\": [\n          58.2,\n          100.45,\n          40.620000000000005\n        ],\n        \"semantic_type\": \"\",\n        \"description\": \"\"\n      }\n    },\n    {\n      \"column\": \"measured log solubility in mols per litre\",\n      \"properties\": {\n        \"dtype\": \"number\",\n        \"std\": 2.096441210089345,\n        \"min\": -11.6,\n        \"max\": 1.58,\n        \"num_unique_values\": 734,\n        \"samples\": [\n          -2.13,\n          -1.64,\n          -0.24\n        ],\n        \"semantic_type\": \"\",\n        \"description\": \"\"\n      }\n    },\n    {\n      \"column\": \"smiles\",\n      \"properties\": {\n        \"dtype\": \"string\",\n        \"num_unique_values\": 1128,\n        \"samples\": [\n          \"CC/C=C\\\\C\",\n          \"O=C1NC(=O)NC(=O)C1(CC)CC=C(C)C\",\n          \"Cc1[nH]c(=O)n(c(=O)c1Cl)C(C)(C)C\"\n        ],\n        \"semantic_type\": \"\",\n        \"description\": \"\"\n      }\n    }\n  ]\n}"
            }
          },
          "metadata": {},
          "execution_count": 5
        }
      ]
    },
    {
      "cell_type": "code",
      "source": [
        "print(list(data))\n",
        "data.shape"
      ],
      "metadata": {
        "colab": {
          "base_uri": "https://localhost:8080/"
        },
        "id": "m48su6poDyCG",
        "outputId": "f57f96b6-da91-4262-ff88-f8389a591982"
      },
      "execution_count": null,
      "outputs": [
        {
          "output_type": "stream",
          "name": "stdout",
          "text": [
            "['Compound ID', 'ESOL predicted log solubility in mols per litre', 'Minimum Degree', 'Molecular Weight', 'Number of H-Bond Donors', 'Number of Rings', 'Number of Rotatable Bonds', 'Polar Surface Area', 'measured log solubility in mols per litre', 'smiles']\n"
          ]
        },
        {
          "output_type": "execute_result",
          "data": {
            "text/plain": [
              "(1128, 10)"
            ]
          },
          "metadata": {},
          "execution_count": 6
        }
      ]
    },
    {
      "cell_type": "code",
      "source": [
        "X=data[['Minimum Degree', 'Molecular Weight', 'Number of H-Bond Donors', 'Number of Rings', 'Number of Rotatable Bonds', 'Polar Surface Area']]\n",
        "Y=data[['measured log solubility in mols per litre']]\n",
        "X.shape, Y.shape\n",
        "Xp.shape"
      ],
      "metadata": {
        "colab": {
          "base_uri": "https://localhost:8080/"
        },
        "id": "OfZR5xdgvcWc",
        "outputId": "5c62557a-014c-4c49-8cf0-d3617fe8b81d"
      },
      "execution_count": null,
      "outputs": [
        {
          "output_type": "execute_result",
          "data": {
            "text/plain": [
              "(12, 2)"
            ]
          },
          "metadata": {},
          "execution_count": 7
        }
      ]
    },
    {
      "cell_type": "code",
      "source": [
        "# Multiple linear Regression\n",
        "X=data[['Minimum Degree', 'Molecular Weight', 'Number of H-Bond Donors', 'Number of Rings', 'Number of Rotatable Bonds', 'Polar Surface Area']]\n",
        "Y=data[['measured log solubility in mols per litre']]\n",
        "Y=np.c_[Y].T #change series to matrix\n",
        "N=len(X)\n",
        "ones=np.ones(N)\n",
        "Xp=np.c_[ones,X]\n",
        "np.random.seed(1) #fix the randomness\n",
        "w=2*np.random.rand(7) - 1 #np.random.rand(2) generates random between 0 and 1 of a dimension 1*2; generate random w between -1 and 1\n",
        "epochs=400000\n",
        "learning_rate=0.000035\n",
        "for epoch in range(epochs):\n",
        "  y_predicted=w @ Xp.T\n",
        "  error=Y-y_predicted\n",
        "  l2=0.5*(np.mean((error)**2))\n",
        "  gradient=-(1/(len(X)))* error @ Xp\n",
        "  w=w-learning_rate*gradient\n",
        "  if epoch%(epochs/10)==0:\n",
        "    print(epoch,l2)\n",
        "print(w)\n",
        "print(error.shape,w.shape,Xp.shape,Y.shape,y_predicted.shape)"
      ],
      "metadata": {
        "colab": {
          "base_uri": "https://localhost:8080/"
        },
        "id": "cFfW8WgiEBGR",
        "outputId": "04c00b39-639c-4421-d963-691e251faac1"
      },
      "execution_count": null,
      "outputs": [
        {
          "output_type": "stream",
          "name": "stdout",
          "text": [
            "0 32076.618752791957\n",
            "40000 0.7436475451985186\n",
            "80000 0.7074100061736552\n",
            "120000 0.6978363124127639\n",
            "160000 0.6950958774281222\n",
            "200000 0.6941953484862933\n",
            "240000 0.693810035438751\n",
            "280000 0.693576126758329\n",
            "320000 0.6933913910598976\n",
            "360000 0.6932265398040581\n",
            "[[-0.45240902 -0.14617513 -0.01302094  0.07388751 -0.45985647 -0.14970686\n",
            "   0.03207482]]\n",
            "(1, 1128) (1, 7) (1128, 7) (1, 1128) (1, 1128)\n"
          ]
        }
      ]
    },
    {
      "cell_type": "code",
      "source": [
        "#machine learning code for MLR\n",
        "from sklearn.linear_model import LinearRegression\n",
        "X=data[['Minimum Degree', 'Molecular Weight', 'Number of H-Bond Donors', 'Number of Rings', 'Number of Rotatable Bonds', 'Polar Surface Area']]\n",
        "Y=data[['measured log solubility in mols per litre']]\n",
        "reg = LinearRegression().fit(X, Y)\n",
        "print(reg.coef_)\n",
        "print(reg.intercept_)\n",
        "y_predicted= reg.predict(X)\n",
        "error=Y-y_predicted\n",
        "l2=0.5*(np.mean((error)**2))\n",
        "print(l2)\n",
        "# 1. Find the index of the row with the maximum absolute error\n",
        "mae=np.abs(Y-y_predicted)\n",
        "smiles=data['smiles']\n",
        "error_with_smiles=np.c_[mae,smiles]\n",
        "#print(error_with_smiles.shape)\n",
        "error_with_smiles=pd.DataFrame(error_with_smiles, columns=['x','y'])\n",
        "#print(type(error_with_smiles))\n",
        "max_error_mol=error_with_smiles.sort_values(by=['x']).tail(10)\n"
      ],
      "metadata": {
        "colab": {
          "base_uri": "https://localhost:8080/"
        },
        "id": "rjRb2SKmG7z8",
        "outputId": "ffc7d973-1898-4074-e73d-a32fae58abd1"
      },
      "execution_count": null,
      "outputs": [
        {
          "output_type": "stream",
          "name": "stdout",
          "text": [
            "[[-0.49921068 -0.01362162  0.07281654 -0.41338402 -0.14337233  0.03159255]]\n",
            "[-0.00934896]\n",
            "0.6901456049984575\n"
          ]
        }
      ]
    },
    {
      "cell_type": "code",
      "source": [
        "!pip install rdkit-pypi"
      ],
      "metadata": {
        "colab": {
          "base_uri": "https://localhost:8080/"
        },
        "collapsed": true,
        "id": "q5EOdsYzMukV",
        "outputId": "1309d08b-7454-413a-9563-08114493fe60"
      },
      "execution_count": null,
      "outputs": [
        {
          "output_type": "stream",
          "name": "stdout",
          "text": [
            "Requirement already satisfied: rdkit-pypi in /usr/local/lib/python3.10/dist-packages (2022.9.5)\n",
            "Requirement already satisfied: numpy in /usr/local/lib/python3.10/dist-packages (from rdkit-pypi) (1.26.4)\n",
            "Requirement already satisfied: Pillow in /usr/local/lib/python3.10/dist-packages (from rdkit-pypi) (11.0.0)\n"
          ]
        }
      ]
    },
    {
      "cell_type": "code",
      "source": [
        "z=np.c_[max_error_mol['y']]\n",
        "z # it gives a 2D array, therefore .values is considered below for generation of molfromsmiles."
      ],
      "metadata": {
        "colab": {
          "base_uri": "https://localhost:8080/"
        },
        "id": "JiInrJimz5mQ",
        "outputId": "2ace8be4-848a-4784-c337-2a0f7905a29e"
      },
      "execution_count": null,
      "outputs": [
        {
          "output_type": "execute_result",
          "data": {
            "text/plain": [
              "array([['ClC1(C2(Cl)C3(Cl)C4(Cl)C5(Cl)C1(Cl)C3(Cl)Cl)C5(Cl)C(Cl)(Cl)C24Cl'],\n",
              "       ['OC(CC(c1ccccc1)c3c(O)c2ccccc2oc3=O)c4ccc(cc4)c5ccc(Br)cc5 '],\n",
              "       ['CC1OC(CC(O)C1O)OC2C(O)CC(OC2C)OC8C(O)CC(OC7CCC3(C)C(CCC4C3CCC5(C)C(CCC45O)C6=CC(=O)OC6)C7)OC8C '],\n",
              "       ['ClC1(C(=O)C2(Cl)C3(Cl)C14Cl)C5(Cl)C2(Cl)C3(Cl)C(Cl)(Cl)C45Cl'],\n",
              "       ['Cc1cc(=O)n(c2ccccc2)n1C'],\n",
              "       ['OC(C1=CC2C5C(C1C2=C(c3ccccc3)c4ccccn4)C(=O)NC5=O)(c6ccccc6)c7ccccn7 '],\n",
              "       ['CCN(CC)C(=O)C(=CCOP(=O)(OC)OC)Cl'],\n",
              "       ['O=c2[nH]c(=O)c1[nH]c(=O)[nH]c1[nH]2 '],\n",
              "       ['CC1OC(CC(O)C1O)OC2C(O)CC(OC2C)OC8C(O)CC(OC7CCC3(C)C(CCC4C3CC(O)C5(C)C(CCC45O)C6=CC(=O)OC6)C7)OC8C '],\n",
              "       ['CNC(=O)C(C)SCCSP(=O)(OC)(OC)']], dtype=object)"
            ]
          },
          "metadata": {},
          "execution_count": 61
        }
      ]
    },
    {
      "cell_type": "code",
      "source": [
        "from rdkit.Chem import AllChem as Chem\n",
        "from rdkit.Chem import Draw\n",
        "test_smiles=max_error_mol['y'].values\n",
        "#Chem.MolFromSmiles('OCC3OC(OCC2OC(OC(C#N)c1ccccc1)C(O)C(O)C2O)C(O)C(O)C3')\n",
        "#test_smiles\n",
        "test_mols= [Chem.MolFromSmiles(smi) for smi in test_smiles]\n",
        "Draw.MolsToGridImage(test_mols, useSVG=False)"
      ],
      "metadata": {
        "colab": {
          "base_uri": "https://localhost:8080/",
          "height": 817
        },
        "id": "nczLLlMvwPAo",
        "outputId": "cd37994d-9946-4921-da3a-e2307fc8bc9c"
      },
      "execution_count": null,
      "outputs": [
        {
          "output_type": "execute_result",
          "data": {
            "image/png": "[encoded data removed]",
            "text/plain": [
              "<IPython.core.display.Image object>"
            ]
          },
          "metadata": {},
          "execution_count": 62
        }
      ]
    },
    {
      "cell_type": "code",
      "source": [],
      "metadata": {
        "id": "IP4sx3NQxisj"
      },
      "execution_count": null,
      "outputs": []
    }
  ],
  "metadata": {
    "colab": {
      "provenance": [],
      "authorship_tag": "ABX9TyOoInyfO0OmmopT0fQfqoVh",
      "include_colab_link": true
    },
    "kernelspec": {
      "display_name": "Python 3",
      "name": "python3"
    },
    "language_info": {
      "name": "python"
    }
  },
  "nbformat": 4,
  "nbformat_minor": 0
}